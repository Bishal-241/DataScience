{
 "cells": [
  {
   "cell_type": "code",
   "execution_count": 2,
   "id": "1c807d8a-e896-4404-894d-cf9c28e7a340",
   "metadata": {},
   "outputs": [],
   "source": [
    "import numpy as np\n",
    "import pandas as pd"
   ]
  },
  {
   "cell_type": "code",
   "execution_count": 3,
   "id": "f62604ce-8030-4ff1-9c65-d7c7d81eb165",
   "metadata": {},
   "outputs": [],
   "source": [
    "ar  = np.array([4,5,6,3,5,8,9,6,5,4,3,5,4,3,6])\n"
   ]
  },
  {
   "cell_type": "code",
   "execution_count": 4,
   "id": "57501aae-02a5-4cf6-acda-0437e0ff89bc",
   "metadata": {},
   "outputs": [
    {
     "name": "stdout",
     "output_type": "stream",
     "text": [
      "[4 5 6 3 5 8 9 6 5 4 3 5 4 3 6]\n"
     ]
    }
   ],
   "source": [
    "print(ar)\n"
   ]
  },
  {
   "cell_type": "code",
   "execution_count": 6,
   "id": "5a826a22-1b42-4017-83ed-a604e1c24dbe",
   "metadata": {},
   "outputs": [
    {
     "name": "stdout",
     "output_type": "stream",
     "text": [
      "[3 3 3 4 4 4 5 5 5 5 6 6 6 8 9]\n"
     ]
    }
   ],
   "source": [
    "print(np.sort(ar))"
   ]
  },
  {
   "cell_type": "code",
   "execution_count": 7,
   "id": "aa74fbff-b5b1-4e36-b986-06c6bf43b697",
   "metadata": {},
   "outputs": [
    {
     "name": "stdout",
     "output_type": "stream",
     "text": [
      "76\n"
     ]
    }
   ],
   "source": [
    "print(sum(ar))"
   ]
  },
  {
   "cell_type": "code",
   "execution_count": 8,
   "id": "2e0e0c4c-8c6a-4e06-baeb-deb647019b03",
   "metadata": {},
   "outputs": [],
   "source": [
    "mean = sum(ar)/len(ar)\n"
   ]
  },
  {
   "cell_type": "code",
   "execution_count": 9,
   "id": "d8063477-d5a7-4890-b619-1a48c2b932c3",
   "metadata": {},
   "outputs": [
    {
     "name": "stdout",
     "output_type": "stream",
     "text": [
      "5.066666666666666\n"
     ]
    }
   ],
   "source": [
    "print(mean)\n"
   ]
  },
  {
   "cell_type": "code",
   "execution_count": 1,
   "id": "607fdb64-0624-4384-8339-51205e0fd32c",
   "metadata": {},
   "outputs": [
    {
     "name": "stdout",
     "output_type": "stream",
     "text": [
      "*\n",
      "**\n",
      "***\n",
      "****\n",
      "*****\n"
     ]
    }
   ],
   "source": [
    "for i in range(1,6):\n",
    "    print(\"*\"*i)"
   ]
  },
  {
   "cell_type": "code",
   "execution_count": null,
   "id": "8c45f8e7-1128-4cea-8886-9902b7e39d99",
   "metadata": {},
   "outputs": [],
   "source": []
  }
 ],
 "metadata": {
  "kernelspec": {
   "display_name": "Python 3 (ipykernel)",
   "language": "python",
   "name": "python3"
  },
  "language_info": {
   "codemirror_mode": {
    "name": "ipython",
    "version": 3
   },
   "file_extension": ".py",
   "mimetype": "text/x-python",
   "name": "python",
   "nbconvert_exporter": "python",
   "pygments_lexer": "ipython3",
   "version": "3.12.8"
  }
 },
 "nbformat": 4,
 "nbformat_minor": 5
}
