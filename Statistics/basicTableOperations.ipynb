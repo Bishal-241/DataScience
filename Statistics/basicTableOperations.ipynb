{
 "cells": [
  {
   "cell_type": "code",
   "execution_count": 9,
   "id": "24e79f09-9b69-4f43-942d-b4157749fee3",
   "metadata": {},
   "outputs": [
    {
     "name": "stdout",
     "output_type": "stream",
     "text": [
      "Today is 2025-05-09 11:19:46.169436\t and\t It is lesson 02 statistic from datescience\n",
      "Helloworld \n"
     ]
    }
   ],
   "source": [
    "from datetime import datetime\n",
    "\n",
    "print(f\"Today is {datetime.now()}\\t and\\t It is lesson 02 statistic from datescience\")\n",
    "for i in range(0,5,5):\n",
    "    print(f\"Helloworld \")\n"
   ]
  },
  {
   "cell_type": "code",
   "execution_count": 10,
   "id": "b5c642b3-18fa-4ed0-95f3-f1f0239f4a90",
   "metadata": {},
   "outputs": [],
   "source": [
    "import numpy as np\n",
    "import pandas as pd"
   ]
  },
  {
   "cell_type": "code",
   "execution_count": 14,
   "id": "f296e74c-0b5b-4871-b845-5184470a93a4",
   "metadata": {},
   "outputs": [],
   "source": [
    "dataset = pd.read_csv(\"..\\\\Datasets\\\\students.csv\")"
   ]
  },
  {
   "cell_type": "code",
   "execution_count": 17,
   "id": "86b6cbf1-c5e3-4e30-966c-4544c0d391ed",
   "metadata": {},
   "outputs": [
    {
     "name": "stdout",
     "output_type": "stream",
     "text": [
      "  school sex  age address famsize Parrent_status  Mother_edu  Father_edu  \\\n",
      "0     GP   F   18       U     GT3              A           4           4   \n",
      "1     GP   F   17       U     GT3              T           1           1   \n",
      "2     GP   F   15       U     LE3              T           1           1   \n",
      "3     GP   F   15       U     GT3              T           4           2   \n",
      "4     GP   F   16       U     GT3              T           3           3   \n",
      "\n",
      "  Mother_job Father_job  ... Family_quality_reln freetime_after_school  \\\n",
      "0    at_home    teacher  ...                   4                     3   \n",
      "1    at_home      other  ...                   5                     3   \n",
      "2    at_home      other  ...                   4                     3   \n",
      "3     health   services  ...                   3                     2   \n",
      "4      other      other  ...                   4                     3   \n",
      "\n",
      "   goout_with_friends  workday_alcohol_consum  weekend_alcohol_consum  \\\n",
      "0                   4                       1                       1   \n",
      "1                   3                       1                       1   \n",
      "2                   2                       2                       3   \n",
      "3                   2                       1                       1   \n",
      "4                   2                       1                       2   \n",
      "\n",
      "  health_status absences  G1  G2  G3  \n",
      "0             3        6   5   6   6  \n",
      "1             3        4   5   5   6  \n",
      "2             3       10   7   8  10  \n",
      "3             5        2  15  14  15  \n",
      "4             5        4   6  10  10  \n",
      "\n",
      "[5 rows x 33 columns]\n"
     ]
    }
   ],
   "source": [
    "print(dataset.head(5))"
   ]
  },
  {
   "cell_type": "code",
   "execution_count": 24,
   "id": "a4cc66f7-0d47-4ff8-8e74-6464707d4461",
   "metadata": {},
   "outputs": [
    {
     "name": "stdout",
     "output_type": "stream",
     "text": [
      "16.696202531645568\n",
      "16.696202531645568\n"
     ]
    }
   ],
   "source": [
    "print(dataset['age'].mean())                          #using mean function\n",
    "avg = sum(dataset['age'])/len(dataset['age'])         #using avg formula\n",
    "print(avg)\n"
   ]
  },
  {
   "cell_type": "code",
   "execution_count": 26,
   "id": "3e618388-c2f7-4c29-a8c6-c35606017095",
   "metadata": {},
   "outputs": [
    {
     "name": "stdout",
     "output_type": "stream",
     "text": [
      "The number of record is 395\n"
     ]
    }
   ],
   "source": [
    "print(f\"The number of record is {len(dataset)}\")"
   ]
  },
  {
   "cell_type": "code",
   "execution_count": 32,
   "id": "4ba88610-ae1c-47b9-8f00-3542ee781d25",
   "metadata": {},
   "outputs": [
    {
     "name": "stdout",
     "output_type": "stream",
     "text": [
      "the set of occupation is {'other', 'services', 'at_home', 'teacher', 'health'}\n"
     ]
    }
   ],
   "source": [
    "print(f\"the set of occupation is {set(dataset[\"Mother_job\"]) or set(dataset['Father_job'])}\")"
   ]
  },
  {
   "cell_type": "code",
   "execution_count": null,
   "id": "9bc5237c-d30e-4bf1-8d07-c2f5d00fec33",
   "metadata": {},
   "outputs": [],
   "source": []
  }
 ],
 "metadata": {
  "kernelspec": {
   "display_name": "Python 3 (ipykernel)",
   "language": "python",
   "name": "python3"
  },
  "language_info": {
   "codemirror_mode": {
    "name": "ipython",
    "version": 3
   },
   "file_extension": ".py",
   "mimetype": "text/x-python",
   "name": "python",
   "nbconvert_exporter": "python",
   "pygments_lexer": "ipython3",
   "version": "3.12.8"
  }
 },
 "nbformat": 4,
 "nbformat_minor": 5
}
